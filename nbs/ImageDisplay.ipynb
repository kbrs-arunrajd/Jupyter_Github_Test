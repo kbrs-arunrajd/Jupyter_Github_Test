{
 "cells": [
  {
   "cell_type": "markdown",
   "id": "351f2341-99dd-4e4d-9fb2-6d1499ac17c8",
   "metadata": {},
   "source": [
    "Testing image display"
   ]
  },
  {
   "cell_type": "markdown",
   "id": "0b60f3c7-f1b7-4a4d-a108-0b7af022ded6",
   "metadata": {},
   "source": [
    "![Image](../assets/Doors1.png)"
   ]
  }
 ],
 "metadata": {
  "kernelspec": {
   "display_name": "Python 3 (ipykernel)",
   "language": "python",
   "name": "python3"
  },
  "language_info": {
   "codemirror_mode": {
    "name": "ipython",
    "version": 3
   },
   "file_extension": ".py",
   "mimetype": "text/x-python",
   "name": "python",
   "nbconvert_exporter": "python",
   "pygments_lexer": "ipython3",
   "version": "3.9.10"
  }
 },
 "nbformat": 4,
 "nbformat_minor": 5
}
