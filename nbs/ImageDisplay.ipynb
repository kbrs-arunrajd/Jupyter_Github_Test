{
 "cells": [
  {
   "cell_type": "markdown",
   "id": "351f2341-99dd-4e4d-9fb2-6d1499ac17c8",
   "metadata": {},
   "source": [
    "Testing image display"
   ]
  },
  {
   "cell_type": "code",
   "execution_count": 3,
   "id": "52e74013-aee9-40d8-94de-82376eb996e4",
   "metadata": {},
   "outputs": [
    {
     "name": "stdout",
     "output_type": "stream",
     "text": [
      "/bin/bash: -c: line 0: syntax error near unexpected token `'../assets/Doors1.png''\n",
      "/bin/bash: -c: line 0: `[Image_DOORS]('../assets/Doors1.png')'\n"
     ]
    }
   ],
   "source": [
    "![Image_DOORS]('../assets/Doors1.png')"
   ]
  }
 ],
 "metadata": {
  "kernelspec": {
   "display_name": "Python 3 (ipykernel)",
   "language": "python",
   "name": "python3"
  },
  "language_info": {
   "codemirror_mode": {
    "name": "ipython",
    "version": 3
   },
   "file_extension": ".py",
   "mimetype": "text/x-python",
   "name": "python",
   "nbconvert_exporter": "python",
   "pygments_lexer": "ipython3",
   "version": "3.9.10"
  }
 },
 "nbformat": 4,
 "nbformat_minor": 5
}
